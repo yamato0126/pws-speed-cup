{
 "cells": [
  {
   "cell_type": "code",
   "execution_count": null,
   "id": "866103c1",
   "metadata": {},
   "outputs": [],
   "source": [
    "import pandas as pd\n",
    "import numpy as np\n",
    "import seaborn as sns\n",
    "\n",
    "%matplotlib inline \n",
    "import matplotlib.pyplot as plt\n",
    "plt.style.use('ggplot') "
   ]
  },
  {
   "cell_type": "code",
   "execution_count": null,
   "id": "17322f63",
   "metadata": {},
   "outputs": [],
   "source": [
    "df = pd.read_csv('./o.csv', sep=',', header=None)\n",
    "df.head()"
   ]
  },
  {
   "cell_type": "code",
   "execution_count": null,
   "id": "489ec53e",
   "metadata": {
    "scrolled": true
   },
   "outputs": [],
   "source": [
    "# 値の分布の確認\n",
    "\n",
    "num_columns = len(df.columns)\n",
    "grid_size = int(np.ceil(np.sqrt(num_columns)))\n",
    "\n",
    "plt.figure(figsize=(12, 12))\n",
    "for i, column in enumerate(df.columns):\n",
    "    plt.subplot(grid_size, grid_size, i + 1)\n",
    "    sns.countplot(x=df[column])\n",
    "\n",
    "plt.tight_layout()\n",
    "plt.show()"
   ]
  },
  {
   "cell_type": "code",
   "execution_count": null,
   "id": "c343be67",
   "metadata": {},
   "outputs": [],
   "source": [
    "# 無相関の確認\n",
    "\n",
    "df_corr = df.corr()\n",
    "fig, ax = plt.subplots(figsize=(12, 9)) \n",
    "sns.heatmap(df_corr, square=True, vmax=1, vmin=-1, center=0)"
   ]
  }
 ],
 "metadata": {
  "kernelspec": {
   "display_name": "Python 3 (ipykernel)",
   "language": "python",
   "name": "python3"
  },
  "language_info": {
   "codemirror_mode": {
    "name": "ipython",
    "version": 3
   },
   "file_extension": ".py",
   "mimetype": "text/x-python",
   "name": "python",
   "nbconvert_exporter": "python",
   "pygments_lexer": "ipython3",
   "version": "3.11.5"
  }
 },
 "nbformat": 4,
 "nbformat_minor": 5
}
